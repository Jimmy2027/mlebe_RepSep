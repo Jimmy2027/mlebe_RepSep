{
 "cells": [
  {
   "cell_type": "code",
   "execution_count": 3,
   "metadata": {},
   "outputs": [
    {
     "name": "stdout",
     "output_type": "stream",
     "text": [
      "['old_bib.bib', 'cleanup.sh', 'compile.sh', 'article.out', 'lib', 'article', 'article.blg', 'common_header.tex', 'article.pytxcode', 'article.tex', 'data', '.gentoo', 'abstract.tex', 'scripts', 'article.aux', 'article.log', 'prepare', 'graphviz.sty', 'article.pdf', 'README.md', '.gitignore', 'produce.sh', 'pythontex', 'article.bbl', 'pythontex-files-article', 'bib.bib']\n"
     ]
    }
   ],
   "source": [
    "import os\n",
    "os.chdir('..')\n",
    "print(os.listdir('.'))"
   ]
  },
  {
   "cell_type": "code",
   "execution_count": 29,
   "metadata": {},
   "outputs": [],
   "source": [
    "import pandas as pd\n",
    "from lib.boilerplate import fstatistic\n",
    "import statsmodels.formula.api as smf\n",
    "import statsmodels.api as sm\n",
    "from os import path\n",
    "from copy import deepcopy\n",
    "import itertools\n",
    "import numpy as np\n",
    "from statsmodels.stats.multitest import multipletests\n",
    "from lib.utils import float_to_tex"
   ]
  },
  {
   "cell_type": "code",
   "execution_count": 41,
   "metadata": {},
   "outputs": [],
   "source": [
    "df_path='data/volume.csv'\n",
    "df = pd.read_csv(df_path)\n",
    "#df"
   ]
  },
  {
   "cell_type": "markdown",
   "metadata": {},
   "source": [
    "# Anova for VCF"
   ]
  },
  {
   "cell_type": "code",
   "execution_count": 4,
   "metadata": {},
   "outputs": [
    {
     "name": "stdout",
     "output_type": "stream",
     "text": [
      "data/volume.csv\n",
      "                        sum_sq     df             F         PR(>F)\n",
      "Intercept            32.746044    1.0  12342.657182  2.904668e-132\n",
      "Processing            0.000929    1.0      0.350091   5.550738e-01\n",
      "Contrast              0.019883    1.0      7.494334   7.043350e-03\n",
      "Processing:Contrast   0.000914    1.0      0.344339   5.583375e-01\n",
      "Residual              0.350206  132.0           NaN            NaN\n"
     ]
    }
   ],
   "source": [
    "dependent_variable='Volume Conservation Factor'\n",
    "expression='Processing*Contrast'\n",
    "\n",
    "df = df.loc[df['Processing'] != 'Unprocessed']\n",
    "\n",
    "formula = 'Q(\"{}\") ~ {}'.format(dependent_variable, expression)\n",
    "ols = smf.ols(formula, df).fit()\n",
    "anova = sm.stats.anova_lm(ols, typ=3)\n",
    "print(anova)"
   ]
  },
  {
   "cell_type": "markdown",
   "metadata": {},
   "source": [
    "# Mixed linear model for VCF"
   ]
  },
  {
   "cell_type": "code",
   "execution_count": 5,
   "metadata": {},
   "outputs": [
    {
     "name": "stdout",
     "output_type": "stream",
     "text": [
      "                       Mixed Linear Model Regression Results\n",
      "====================================================================================\n",
      "Model:               MixedLM   Dependent Variable:   Q(\"Volume Conservation Factor\")\n",
      "No. Observations:    136       Method:               REML                           \n",
      "No. Groups:          68        Scale:                0.0009                         \n",
      "Min. group size:     2         Log-Likelihood:       216.6062                       \n",
      "Max. group size:     2         Converged:            Yes                            \n",
      "Mean group size:     2.0                                                            \n",
      "------------------------------------------------------------------------------------\n",
      "                                         Coef.  Std.Err.    z    P>|z| [0.025 0.975]\n",
      "------------------------------------------------------------------------------------\n",
      "Intercept                                 0.981    0.009 111.098 0.000  0.964  0.999\n",
      "Processing[T.Masked]                      0.007    0.007   1.026 0.305 -0.007  0.022\n",
      "Contrast[T.T2w+CBV]                      -0.034    0.012  -2.738 0.006 -0.059 -0.010\n",
      "Processing[T.Masked]:Contrast[T.T2w+CBV]  0.010    0.010   1.017 0.309 -0.010  0.030\n",
      "Uid Var                                   0.002    0.018                            \n",
      "====================================================================================\n",
      "\n"
     ]
    },
    {
     "name": "stderr",
     "output_type": "stream",
     "text": [
      "/home/hendrik/miniconda3/envs/perfusionct/lib/python3.7/site-packages/statsmodels/regression/mixed_linear_model.py:2149: ConvergenceWarning: The MLE may be on the boundary of the parameter space.\n",
      "  warnings.warn(msg, ConvergenceWarning)\n"
     ]
    }
   ],
   "source": [
    "df_path = 'data/volume.csv'\n",
    "dependent_variable = 'Volume Conservation Factor'\n",
    "expression = 'Processing*Contrast'\n",
    "\n",
    "df_path = os.path.abspath(df_path)\n",
    "df = pd.read_csv(df_path)\n",
    "\n",
    "df = df.loc[df['Processing'] != 'Unprocessed']\n",
    "df = df.loc[((df['Processing'] == 'Masked')) | ((df['Processing'] == 'Generic'))]\n",
    "\n",
    "formula = 'Q(\"{}\") ~ {}'.format(dependent_variable, expression)\n",
    "model = smf.mixedlm(formula, df, groups='Uid')\n",
    "fit = model.fit()\n",
    "summary = fit.summary()\n",
    "print(summary)"
   ]
  },
  {
   "cell_type": "markdown",
   "metadata": {},
   "source": [
    "# Mixed linear model for bootstrapped distribution"
   ]
  },
  {
   "cell_type": "code",
   "execution_count": 6,
   "metadata": {},
   "outputs": [
    {
     "name": "stdout",
     "output_type": "stream",
     "text": [
      "                     Mixed Linear Model Regression Results\n",
      "================================================================================\n",
      "Model:                   MixedLM        Dependent Variable:        Q(\"VCF_RMSE\")\n",
      "No. Observations:        816            Method:                    REML         \n",
      "No. Groups:              408            Scale:                     0.0000       \n",
      "Min. group size:         2              Log-Likelihood:            2830.4779    \n",
      "Max. group size:         2              Converged:                 Yes          \n",
      "Mean group size:         2.0                                                    \n",
      "--------------------------------------------------------------------------------\n",
      "                                     Coef.  Std.Err.    z    P>|z| [0.025 0.975]\n",
      "--------------------------------------------------------------------------------\n",
      "Intercept                             0.060    0.001 117.472 0.000  0.059  0.061\n",
      "Processing[T.Masked]                 -0.016    0.001 -23.245 0.000 -0.018 -0.015\n",
      "Contrast[T.CBV]                       0.022    0.001  30.476 0.000  0.021  0.024\n",
      "Processing[T.Masked]:Contrast[T.CBV] -0.016    0.001 -16.025 0.000 -0.018 -0.014\n",
      "Uid Var                               0.000    0.000                            \n",
      "================================================================================\n",
      "\n"
     ]
    },
    {
     "name": "stderr",
     "output_type": "stream",
     "text": [
      "/home/hendrik/miniconda3/envs/perfusionct/lib/python3.7/site-packages/statsmodels/regression/mixed_linear_model.py:2149: ConvergenceWarning: The MLE may be on the boundary of the parameter space.\n",
      "  warnings.warn(msg, ConvergenceWarning)\n"
     ]
    }
   ],
   "source": [
    "df_path = 'data/bootstrapped/bootstrapped_volume.csv'\n",
    "df = pd.read_csv(os.path.abspath(df_path))\n",
    "dependent_variable='VCF_RMSE'\n",
    "expression = 'Processing*Contrast'\n",
    "\n",
    "df = df.loc[df['Processing'] != 'Unprocessed']\n",
    "df = df.loc[((df['Processing'] == 'Masked')) | ((df['Processing'] == 'Generic'))]\n",
    "\n",
    "formula = 'Q(\"{}\") ~ {}'.format(dependent_variable, expression)\n",
    "model = smf.mixedlm(formula, df, groups='Uid')\n",
    "fit = model.fit()\n",
    "print(fit.summary())"
   ]
  },
  {
   "cell_type": "code",
   "execution_count": 7,
   "metadata": {},
   "outputs": [
    {
     "name": "stdout",
     "output_type": "stream",
     "text": [
      "             Mixed Linear Model Regression Results\n",
      "================================================================\n",
      "Model:               MixedLM  Dependent Variable:  Q(\"VCF_RMSE\")\n",
      "No. Observations:    816      Method:              REML         \n",
      "No. Groups:          408      Scale:               0.0001       \n",
      "Min. group size:     2        Log-Likelihood:      2730.5499    \n",
      "Max. group size:     2        Converged:           Yes          \n",
      "Mean group size:     2.0                                        \n",
      "----------------------------------------------------------------\n",
      "                     Coef.  Std.Err.    z    P>|z| [0.025 0.975]\n",
      "----------------------------------------------------------------\n",
      "Intercept             0.064    0.001 127.145 0.000  0.063  0.065\n",
      "Processing[T.Masked] -0.024    0.001 -41.500 0.000 -0.025 -0.023\n",
      "Contrast[T.CBV]       0.014    0.001  24.304 0.000  0.013  0.015\n",
      "Uid Var               0.000    0.001                            \n",
      "================================================================\n",
      "\n"
     ]
    },
    {
     "name": "stderr",
     "output_type": "stream",
     "text": [
      "/home/hendrik/miniconda3/envs/perfusionct/lib/python3.7/site-packages/statsmodels/regression/mixed_linear_model.py:2149: ConvergenceWarning: The MLE may be on the boundary of the parameter space.\n",
      "  warnings.warn(msg, ConvergenceWarning)\n"
     ]
    }
   ],
   "source": [
    "df_path = 'data/bootstrapped/bootstrapped_volume.csv'\n",
    "df = pd.read_csv(os.path.abspath(df_path))\n",
    "dependent_variable='VCF_RMSE'\n",
    "expression = 'Processing+ Contrast'\n",
    "\n",
    "df = df.loc[df['Processing'] != 'Unprocessed']\n",
    "df = df.loc[((df['Processing'] == 'Masked')) | ((df['Processing'] == 'Generic'))]\n",
    "\n",
    "formula = 'Q(\"{}\") ~ {}'.format(dependent_variable, expression)\n",
    "model = smf.mixedlm(formula, df, groups='Uid')\n",
    "fit = model.fit()\n",
    "print(fit.summary())"
   ]
  },
  {
   "cell_type": "markdown",
   "metadata": {},
   "source": [
    "# Mixed linear model for |1 - VCF| with interaction"
   ]
  },
  {
   "cell_type": "code",
   "execution_count": 8,
   "metadata": {},
   "outputs": [
    {
     "name": "stdout",
     "output_type": "stream",
     "text": [
      "                       Mixed Linear Model Regression Results\n",
      "===================================================================================\n",
      "Model:                     MixedLM         Dependent Variable:         Q(\"1 - Vcf\")\n",
      "No. Observations:          136             Method:                     REML        \n",
      "No. Groups:                68              Scale:                      0.0008      \n",
      "Min. group size:           2               Log-Likelihood:             243.2700    \n",
      "Max. group size:           2               Converged:                  Yes         \n",
      "Mean group size:           2.0                                                     \n",
      "-----------------------------------------------------------------------------------\n",
      "                                         Coef.  Std.Err.   z    P>|z| [0.025 0.975]\n",
      "-----------------------------------------------------------------------------------\n",
      "Intercept                                 0.046    0.007  7.081 0.000  0.034  0.059\n",
      "Processing[T.Masked]                     -0.010    0.007 -1.406 0.160 -0.024  0.004\n",
      "Contrast[T.T2w+CBV]                       0.015    0.009  1.619 0.105 -0.003  0.033\n",
      "Processing[T.Masked]:Contrast[T.T2w+CBV] -0.008    0.010 -0.813 0.416 -0.028  0.011\n",
      "Uid Var                                   0.001    0.009                           \n",
      "===================================================================================\n",
      "\n"
     ]
    },
    {
     "name": "stderr",
     "output_type": "stream",
     "text": [
      "/home/hendrik/miniconda3/envs/perfusionct/lib/python3.7/site-packages/statsmodels/regression/mixed_linear_model.py:2149: ConvergenceWarning: The MLE may be on the boundary of the parameter space.\n",
      "  warnings.warn(msg, ConvergenceWarning)\n"
     ]
    }
   ],
   "source": [
    "df_path = 'data/volume.csv'\n",
    "dependent_variable = '1 - Vcf'\n",
    "expression = 'Processing*Contrast'\n",
    "\n",
    "df_path = os.path.abspath(df_path)\n",
    "df = pd.read_csv(df_path)\n",
    "\n",
    "df = df.loc[df['Processing'] != 'Unprocessed']\n",
    "df = df.loc[((df['Processing'] == 'Masked')) | ((df['Processing'] == 'Generic'))]\n",
    "\n",
    "formula = 'Q(\"{}\") ~ {}'.format(dependent_variable, expression)\n",
    "model = smf.mixedlm(formula, df, groups='Uid')\n",
    "fit = model.fit()\n",
    "summary = fit.summary()\n",
    "print(summary)"
   ]
  },
  {
   "cell_type": "markdown",
   "metadata": {},
   "source": [
    "# Mixed linear model for |1 - VCF| without interaction"
   ]
  },
  {
   "cell_type": "code",
   "execution_count": 9,
   "metadata": {},
   "outputs": [
    {
     "name": "stderr",
     "output_type": "stream",
     "text": [
      "/home/hendrik/miniconda3/envs/perfusionct/lib/python3.7/site-packages/statsmodels/regression/mixed_linear_model.py:2149: ConvergenceWarning: The MLE may be on the boundary of the parameter space.\n",
      "  warnings.warn(msg, ConvergenceWarning)\n"
     ]
    },
    {
     "name": "stdout",
     "output_type": "stream",
     "text": [
      "             Mixed Linear Model Regression Results\n",
      "===============================================================\n",
      "Model:               MixedLM  Dependent Variable:  Q(\"1 - Vcf\")\n",
      "No. Observations:    136      Method:              REML        \n",
      "No. Groups:          68       Scale:               0.0008      \n",
      "Min. group size:     2        Log-Likelihood:      246.6337    \n",
      "Max. group size:     2        Converged:           Yes         \n",
      "Mean group size:     2.0                                       \n",
      "---------------------------------------------------------------\n",
      "                     Coef.  Std.Err.   z    P>|z| [0.025 0.975]\n",
      "---------------------------------------------------------------\n",
      "Intercept             0.048    0.006  7.988 0.000  0.037  0.060\n",
      "Processing[T.Masked] -0.014    0.005 -2.808 0.005 -0.024 -0.004\n",
      "Contrast[T.T2w+CBV]   0.011    0.008  1.402 0.161 -0.004  0.026\n",
      "Uid Var               0.001    0.009                           \n",
      "===============================================================\n",
      "\n"
     ]
    }
   ],
   "source": [
    "df_path = 'data/volume.csv'\n",
    "dependent_variable = '1 - Vcf'\n",
    "expression = 'Processing+Contrast'\n",
    "\n",
    "df_path = os.path.abspath(df_path)\n",
    "df = pd.read_csv(df_path)\n",
    "\n",
    "df = df.loc[df['Processing'] != 'Unprocessed']\n",
    "df = df.loc[((df['Processing'] == 'Masked')) | ((df['Processing'] == 'Generic'))]\n",
    "\n",
    "formula = 'Q(\"{}\") ~ {}'.format(dependent_variable, expression)\n",
    "model = smf.mixedlm(formula, df, groups='Uid')\n",
    "fit = model.fit()\n",
    "summary = fit.summary()\n",
    "print(summary)"
   ]
  },
  {
   "cell_type": "markdown",
   "metadata": {},
   "source": [
    "# Post-hoc analysis of VCF"
   ]
  },
  {
   "cell_type": "code",
   "execution_count": 39,
   "metadata": {},
   "outputs": [],
   "source": [
    "# comment\n",
    "def post_hoc(\n",
    "\tdf_path='data/volume.csv',\n",
    "\tcore_comparison=True,\n",
    "\tdependent_variable= 'Volume Conservation Factor',\n",
    "\tformula = 'Q(\"{}\") ~ Contrast + Processing:Contrast',\n",
    "\tdebug_full_formula = 'Q(\"{}\") ~ Processing:Contrast',\n",
    "\tinter_level_comparisons=True,\n",
    "\tlevels = [\n",
    "\t\t'Processing[T.Masked]:Contrast[T2w+BOLD]',\n",
    "\t\t'Processing[T.Masked]:Contrast[T2w+CBV]',\n",
    "\t\t],\n",
    "\treporting_levels = [\n",
    "\t\t'T2w+BOLD',\n",
    "\t\t'T2w+CBV',\n",
    "\t\t],\n",
    "        max_len=2,\n",
    "        **kwargs\n",
    "\t):\n",
    "\t\"\"\"Return a document-ready listing of specified post-hoc t-test p-values.\n",
    "\n",
    "\tParameters\n",
    "\t----------\n",
    "\n",
    "\tdf_path : str, optional\n",
    "\t\tPath to a CSV file with columns including variable names as specified in the `dependent_variable` and `formula` parameters.\n",
    "\tcore_comparison : bool, optional\n",
    "\t\tWhether to restrict the comparison to the core cases (matching Processing and Template pairs).\n",
    "\t\tThis parameter is IRSABI-specific.\n",
    "\tdependent_variable : str, optional\n",
    "\t\tDependent variable of the model\n",
    "\tformula : str, optional\n",
    "\t\tA formattable Python string (including `{}`) according to statsmodels syntax, which expresses the desired reporting formula.\n",
    "\t\tNote that in order to give interaction-level estimates, this formula needs to NOT model one of the main factors, so that its variance is only evaluated based on the interaction with the other factor.\n",
    "\t\tThis means that if you are reporting how the effects of factor B vary along levels of factor C, the correct formula is not `'Q(\"{}\") ~ B*C'`, but `'Q(\"{}\") ~ C + B:C'`.\n",
    "\tdebug_full_formula : str, optional\n",
    "\t\tA formattable Python string (including `{}`) according to statsmodels syntax, which expresses the full formula for the model you are reporting on.\n",
    "\t\tIn the aforementioned case this would indeed probably be `'Q(\"{}\") ~ B*C'`.\n",
    "\t\tThis feature is useful to verify that the f-contrast you are detailing is indeed matching the value obtained in the full model, and setting this option will trigger debug output printing.\n",
    "\t\tThis option should not be set for usage within a document.\n",
    "\tinter_level_comparison : bool, optional\n",
    "\t\tWhether to compute the significance for comparisons between the levels.\n",
    "\t\tThis is to be used if you want to determine the significance not for the comparison of the levels with zero, but between the levels, i.e. it is significant that level B[1]:C[1] differs from level B[1]:C[2].\n",
    "\tmax_len : int, optional\n",
    "\t\tMaximum length for decimal reporting.\n",
    "\tlevels : list of str, optional\n",
    "\t\tA list of the explicit levels of the model for which the post-hoc t-tests should be performed.\n",
    "\t\tValid values can be read from the first column of the fit summary which is printed when the function is run with `debug_full_formula` set.\n",
    "\treporting_levels : list of str, optional\n",
    "\t\tA list of the level names as you would like to have them printed in the report.\n",
    "\t\tThe list should have the same length as `levels`, and the reporting level names should be given in the same order.\n",
    "\t\"\"\"\n",
    "\n",
    "\n",
    "\tdf = pd.read_csv(path.join(df_path), index_col=False)\n",
    "\tif core_comparison:\n",
    "\t\tdf = df.loc[((df['Processing']=='Masked')) | ((df['Processing']=='Generic'))]\n",
    "\n",
    "\tif debug_full_formula:\n",
    "\t\tdebug_full_formula = debug_full_formula.format(dependent_variable)\n",
    "\t\tmodel = smf.ols(debug_full_formula, df)\n",
    "\t\tfit = model.fit()\n",
    "\t\tsummary = fit.summary()\n",
    "\t\tanova_summary = sm.stats.anova_lm(fit, typ=3)\n",
    "\t\tprint(anova_summary)\n",
    "\t\tprint(summary)\n",
    "\n",
    "\tformula = formula.format(dependent_variable)\n",
    "\tmodel = smf.ols(formula, df)\n",
    "\tfit = model.fit()\n",
    "\tsummary = fit.summary()\n",
    "\tanova_summary = sm.stats.anova_lm(fit, typ=3)\n",
    "\n",
    "\tcomparisons = deepcopy(levels)\n",
    "\tf_contrast = deepcopy(levels)\n",
    "\tif inter_level_comparisons:\n",
    "\t\textended_comparisons = [[a,b] for a, b in itertools.combinations(levels,2)]\n",
    "\t\textended_f_contrast = ['{} - {}'.format(a[0],a[1]) for a in extended_comparisons]\n",
    "\t\tcomparisons.extend(extended_comparisons)\n",
    "\t\tf_contrast.extend(extended_f_contrast)\n",
    "\tf_contrast = ','.join(f_contrast)\n",
    "\tf = fit.f_test(f_contrast)\n",
    "\n",
    "\tcontrasts = []\n",
    "\tfor comparison in comparisons:\n",
    "\t\tif isinstance(comparison, str):\n",
    "\t\t\tcontrast = [1 if i == comparison else 0 for i in fit.params.index.to_list()]\n",
    "\t\t\tcontrasts.append(contrast)\n",
    "\t\telse:\n",
    "\t\t\tcontrast = [int(i in comparison) for i in levels]\n",
    "\t\t\tcontrast = [1 if i in comparison else 0 for i in fit.params.index.to_list()]\n",
    "\t\t\tsecond = False\n",
    "\t\t\tfor ix, i in enumerate(contrast):\n",
    "\t\t\t\tif i==1 and second:\n",
    "\t\t\t\t\tbreak\n",
    "\t\t\t\telif i == 1:\n",
    "\t\t\t\t\tsecond=True\n",
    "\t\t\tcontrast[ix] = -1\n",
    "\t\t\tcontrasts.append(contrast)\n",
    "\n",
    "\tt_tests = fit.t_test(np.array(contrasts))\n",
    "\tg, corrected_pvalues, _, _ = multipletests(t_tests.pvalue, alpha=0.05, method='fdr_bh')\n",
    "\n",
    "\tif debug_full_formula:\n",
    "\t\tlegend=''\n",
    "\t\tfor ix, p in enumerate(corrected_pvalues):\n",
    "\t\t\tlegend += 'c{} = {}:\\n\\tBenjamini-Hochberg corrected p={}\\n'.format(ix,comparisons[ix],p)\n",
    "\t\t\tprint('\\n')\n",
    "\t\t\tprint(f.__str__())\n",
    "\t\t\tprint('\\n\\n')\n",
    "\t\t\tprint(legend)\n",
    "\t\t\tprint('\\n')\n",
    "\t\t\tprint(t_tests.__str__())\n",
    "\t\t\tprint('\\n')\n",
    "\n",
    "\tsignificant_list=[]\n",
    "\tnonsignificant_list=[]\n",
    "\tfor ix,p in enumerate(corrected_pvalues):\n",
    "\t\tif comparisons[ix] not in levels:\n",
    "\t\t\tcontinue\n",
    "\t\td={}\n",
    "\t\td['p'] = float_to_tex(p, max_len, **kwargs)\n",
    "\t\tlevels_index = levels.index(comparisons[ix])\n",
    "\t\td['level'] = comparisons[ix]\n",
    "\t\td['reporting_level'] = reporting_levels[ix]\n",
    "\t\tif p <= 0.05:\n",
    "\t\t\tsignificant_list.append(d)\n",
    "\t\telse:\n",
    "\t\t\tnonsignificant_list.append(d)\n",
    "\n",
    "\treporting = ''\n",
    "\n",
    "\tfor ix, i in enumerate(significant_list):\n",
    "\t\treporting+='{} ($p\\!=\\!{}$)'.format(i['reporting_level'],i['p'])\n",
    "\t\tif ix+1 == len(significant_list)-1:\n",
    "\t\t\treporting+=', and '\n",
    "\t\telif ix+1 < len(significant_list):\n",
    "\t\t\treporting+=', '\n",
    "\tif len(nonsignificant_list) != 0:\n",
    "\t\tif len(significant_list) == 1:\n",
    "\t\t\treporting += ' level'\n",
    "\t\telse:\n",
    "\t\t\treporting += ' levels'\n",
    "\t\treporting+=', but not the '\n",
    "\t\tfor ix, i in enumerate(nonsignificant_list):\n",
    "\t\t\treporting+='{} ($p\\!=\\!{}$)'.format(i['reporting_level'],i['p'])\n",
    "\t\t\tif ix+1 == len(nonsignificant_list)-1:\n",
    "\t\t\t\treporting+=', and '\n",
    "\t\t\telif ix+1 < len(nonsignificant_list):\n",
    "\t\t\t\treporting+=', '\n",
    "\t\tif len(nonsignificant_list) == 1:\n",
    "\t\t\treporting += ' level'\n",
    "\t\telse:\n",
    "\t\t\treporting += ' levels'\n",
    "\telse:\n",
    "\t\treporting += ' levels'\n",
    "\n",
    "\treturn reporting"
   ]
  },
  {
   "cell_type": "code",
   "execution_count": 40,
   "metadata": {},
   "outputs": [
    {
     "name": "stdout",
     "output_type": "stream",
     "text": [
      "                        sum_sq     df             F         PR(>F)\n",
      "Intercept            32.746044    1.0  12342.657182  2.904668e-132\n",
      "Processing:Contrast   0.034915    3.0      4.386752   5.607906e-03\n",
      "Residual              0.350206  132.0           NaN            NaN\n",
      "                                   OLS Regression Results                                  \n",
      "===========================================================================================\n",
      "Dep. Variable:     Q(\"Volume Conservation Factor\")   R-squared:                       0.091\n",
      "Model:                                         OLS   Adj. R-squared:                  0.070\n",
      "Method:                              Least Squares   F-statistic:                     4.387\n",
      "Date:                             Thu, 16 Jul 2020   Prob (F-statistic):            0.00561\n",
      "Time:                                     09:22:09   Log-Likelihood:                 212.43\n",
      "No. Observations:                              136   AIC:                            -416.9\n",
      "Df Residuals:                                  132   BIC:                            -405.2\n",
      "Df Model:                                        3                                         \n",
      "Covariance Type:                         nonrobust                                         \n",
      "===========================================================================================================\n",
      "                                              coef    std err          t      P>|t|      [0.025      0.975]\n",
      "-----------------------------------------------------------------------------------------------------------\n",
      "Intercept                                   0.9814      0.009    111.098      0.000       0.964       0.999\n",
      "Contrast[T.T2w+CBV]                        -0.0342      0.012     -2.738      0.007      -0.059      -0.009\n",
      "Processing[T.Masked]:Contrast[T2w+BOLD]     0.0074      0.012      0.592      0.555      -0.017       0.032\n",
      "Processing[T.Masked]:Contrast[T2w+CBV]      0.0178      0.012      1.422      0.158      -0.007       0.042\n",
      "==============================================================================\n",
      "Omnibus:                        5.873   Durbin-Watson:                   0.829\n",
      "Prob(Omnibus):                  0.053   Jarque-Bera (JB):                5.430\n",
      "Skew:                          -0.416   Prob(JB):                       0.0662\n",
      "Kurtosis:                       3.515   Cond. No.                         4.78\n",
      "==============================================================================\n",
      "\n",
      "Warnings:\n",
      "[1] Standard Errors assume that the covariance matrix of the errors is correctly specified.\n",
      "\n",
      "\n",
      "<F test: F=array([[1.18544892]]), p=0.30884103703087046, df_denom=132, df_num=2>\n",
      "\n",
      "\n",
      "\n",
      "c0 = Processing[T.Masked]:Contrast[T2w+BOLD]:\n",
      "\tBenjamini-Hochberg corrected p=0.5583375487871154\n",
      "\n",
      "\n",
      "\n",
      "                             Test for Constraints                             \n",
      "==============================================================================\n",
      "                 coef    std err          t      P>|t|      [0.025      0.975]\n",
      "------------------------------------------------------------------------------\n",
      "c0             0.0074      0.012      0.592      0.555      -0.017       0.032\n",
      "c1             0.0178      0.012      1.422      0.158      -0.007       0.042\n",
      "c2            -0.0104      0.018     -0.587      0.558      -0.045       0.025\n",
      "==============================================================================\n",
      "\n",
      "\n",
      "\n",
      "\n",
      "<F test: F=array([[1.18544892]]), p=0.30884103703087046, df_denom=132, df_num=2>\n",
      "\n",
      "\n",
      "\n",
      "c0 = Processing[T.Masked]:Contrast[T2w+BOLD]:\n",
      "\tBenjamini-Hochberg corrected p=0.5583375487871154\n",
      "c1 = Processing[T.Masked]:Contrast[T2w+CBV]:\n",
      "\tBenjamini-Hochberg corrected p=0.4725449875725073\n",
      "\n",
      "\n",
      "\n",
      "                             Test for Constraints                             \n",
      "==============================================================================\n",
      "                 coef    std err          t      P>|t|      [0.025      0.975]\n",
      "------------------------------------------------------------------------------\n",
      "c0             0.0074      0.012      0.592      0.555      -0.017       0.032\n",
      "c1             0.0178      0.012      1.422      0.158      -0.007       0.042\n",
      "c2            -0.0104      0.018     -0.587      0.558      -0.045       0.025\n",
      "==============================================================================\n",
      "\n",
      "\n",
      "\n",
      "\n",
      "<F test: F=array([[1.18544892]]), p=0.30884103703087046, df_denom=132, df_num=2>\n",
      "\n",
      "\n",
      "\n",
      "c0 = Processing[T.Masked]:Contrast[T2w+BOLD]:\n",
      "\tBenjamini-Hochberg corrected p=0.5583375487871154\n",
      "c1 = Processing[T.Masked]:Contrast[T2w+CBV]:\n",
      "\tBenjamini-Hochberg corrected p=0.4725449875725073\n",
      "c2 = ['Processing[T.Masked]:Contrast[T2w+BOLD]', 'Processing[T.Masked]:Contrast[T2w+CBV]']:\n",
      "\tBenjamini-Hochberg corrected p=0.5583375487871154\n",
      "\n",
      "\n",
      "\n",
      "                             Test for Constraints                             \n",
      "==============================================================================\n",
      "                 coef    std err          t      P>|t|      [0.025      0.975]\n",
      "------------------------------------------------------------------------------\n",
      "c0             0.0074      0.012      0.592      0.555      -0.017       0.032\n",
      "c1             0.0178      0.012      1.422      0.158      -0.007       0.042\n",
      "c2            -0.0104      0.018     -0.587      0.558      -0.045       0.025\n",
      "==============================================================================\n",
      "\n",
      "\n"
     ]
    },
    {
     "name": "stderr",
     "output_type": "stream",
     "text": [
      "/home/hendrik/miniconda3/envs/perfusionct/lib/python3.7/site-packages/statsmodels/base/model.py:1832: ValueWarning: covariance of constraints does not have full rank. The number of constraints is 3, but rank is 2\n",
      "  'rank is %d' % (J, J_), ValueWarning)\n"
     ]
    },
    {
     "data": {
      "text/plain": [
       "' levels, but not the T2w+BOLD ($p\\\\!=\\\\!0.56$), and T2w+CBV ($p\\\\!=\\\\!0.47$) levels'"
      ]
     },
     "execution_count": 40,
     "metadata": {},
     "output_type": "execute_result"
    }
   ],
   "source": [
    "post_hoc()"
   ]
  },
  {
   "cell_type": "code",
   "execution_count": null,
   "metadata": {},
   "outputs": [],
   "source": []
  }
 ],
 "metadata": {
  "kernelspec": {
   "display_name": "Python 3",
   "language": "python",
   "name": "python3"
  },
  "language_info": {
   "codemirror_mode": {
    "name": "ipython",
    "version": 3
   },
   "file_extension": ".py",
   "mimetype": "text/x-python",
   "name": "python",
   "nbconvert_exporter": "python",
   "pygments_lexer": "ipython3",
   "version": "3.7.7"
  }
 },
 "nbformat": 4,
 "nbformat_minor": 1
}
