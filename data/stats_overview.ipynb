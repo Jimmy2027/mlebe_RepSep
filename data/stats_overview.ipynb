{
 "cells": [
  {
   "cell_type": "code",
   "execution_count": 1,
   "metadata": {},
   "outputs": [
    {
     "name": "stdout",
     "output_type": "stream",
     "text": [
      "['old_bib.bib', 'cleanup.sh', 'compile.sh', 'article.out', 'lib', 'article', 'article.blg', 'common_header.tex', 'article.pytxcode', 'article.tex', 'data', '.gentoo', 'abstract.tex', 'scripts', 'article.aux', 'article.log', 'prepare', 'graphviz.sty', 'article.pdf', 'README.md', '.gitignore', 'produce.sh', 'pythontex', 'article.bbl', 'pythontex-files-article', 'bib.bib']\n"
     ]
    }
   ],
   "source": [
    "import os\n",
    "os.chdir('..')\n",
    "print(os.listdir('.'))"
   ]
  },
  {
   "cell_type": "code",
   "execution_count": 4,
   "metadata": {},
   "outputs": [],
   "source": [
    "import pandas as pd\n",
    "from lib.boilerplate import fstatistic\n",
    "import statsmodels.formula.api as smf\n",
    "import statsmodels.api as sm"
   ]
  },
  {
   "cell_type": "code",
   "execution_count": 6,
   "metadata": {},
   "outputs": [
    {
     "name": "stdout",
     "output_type": "stream",
     "text": [
      "$F_{1,132}\\!=\\!0.35,\\, p\\!=\\!0.56$\n"
     ]
    }
   ],
   "source": [
    "print(fstatistic('Processing', condensed=True))"
   ]
  },
  {
   "cell_type": "markdown",
   "metadata": {},
   "source": [
    "# Anova for VCF"
   ]
  },
  {
   "cell_type": "code",
   "execution_count": 30,
   "metadata": {},
   "outputs": [
    {
     "name": "stdout",
     "output_type": "stream",
     "text": [
      "data/volume.csv\n",
      "                        sum_sq     df             F         PR(>F)\n",
      "Intercept            32.746044    1.0  12342.657182  2.904668e-132\n",
      "Processing            0.000929    1.0      0.350091   5.550738e-01\n",
      "Contrast              0.019883    1.0      7.494334   7.043350e-03\n",
      "Processing:Contrast   0.000914    1.0      0.344339   5.583375e-01\n",
      "Residual              0.350206  132.0           NaN            NaN\n"
     ]
    }
   ],
   "source": [
    "df_path='data/volume.csv'\n",
    "dependent_variable='Volume Conservation Factor'\n",
    "expression='Processing*Contrast'\n",
    "print(df_path)\n",
    "df = pd.read_csv(df_path)\n",
    "df = df.loc[df['Processing'] != 'Unprocessed']\n",
    "\n",
    "formula = 'Q(\"{}\") ~ {}'.format(dependent_variable, expression)\n",
    "ols = smf.ols(formula, df).fit()\n",
    "anova = sm.stats.anova_lm(ols, typ=3)\n",
    "print(anova)"
   ]
  },
  {
   "cell_type": "markdown",
   "metadata": {},
   "source": [
    "# Mixed linear model for VCF"
   ]
  },
  {
   "cell_type": "code",
   "execution_count": 8,
   "metadata": {},
   "outputs": [
    {
     "name": "stdout",
     "output_type": "stream",
     "text": [
      "                       Mixed Linear Model Regression Results\n",
      "====================================================================================\n",
      "Model:               MixedLM   Dependent Variable:   Q(\"Volume Conservation Factor\")\n",
      "No. Observations:    136       Method:               REML                           \n",
      "No. Groups:          68        Scale:                0.0009                         \n",
      "Min. group size:     2         Log-Likelihood:       216.6062                       \n",
      "Max. group size:     2         Converged:            Yes                            \n",
      "Mean group size:     2.0                                                            \n",
      "------------------------------------------------------------------------------------\n",
      "                                         Coef.  Std.Err.    z    P>|z| [0.025 0.975]\n",
      "------------------------------------------------------------------------------------\n",
      "Intercept                                 0.981    0.009 111.098 0.000  0.964  0.999\n",
      "Processing[T.Masked]                      0.007    0.007   1.026 0.305 -0.007  0.022\n",
      "Contrast[T.T2w+CBV]                      -0.034    0.012  -2.738 0.006 -0.059 -0.010\n",
      "Processing[T.Masked]:Contrast[T.T2w+CBV]  0.010    0.010   1.017 0.309 -0.010  0.030\n",
      "Uid Var                                   0.002    0.018                            \n",
      "====================================================================================\n",
      "\n"
     ]
    },
    {
     "name": "stderr",
     "output_type": "stream",
     "text": [
      "/home/hendrik/miniconda3/envs/perfusionct/lib/python3.7/site-packages/statsmodels/regression/mixed_linear_model.py:2149: ConvergenceWarning: The MLE may be on the boundary of the parameter space.\n",
      "  warnings.warn(msg, ConvergenceWarning)\n"
     ]
    }
   ],
   "source": [
    "df_path = 'data/volume.csv'\n",
    "dependent_variable = 'Volume Conservation Factor'\n",
    "expression = 'Processing*Contrast'\n",
    "\n",
    "df_path = os.path.abspath(df_path)\n",
    "df = pd.read_csv(df_path)\n",
    "\n",
    "df = df.loc[df['Processing'] != 'Unprocessed']\n",
    "df = df.loc[((df['Processing'] == 'Masked')) | ((df['Processing'] == 'Generic'))]\n",
    "\n",
    "formula = 'Q(\"{}\") ~ {}'.format(dependent_variable, expression)\n",
    "model = smf.mixedlm(formula, df, groups='Uid')\n",
    "fit = model.fit()\n",
    "summary = fit.summary()\n",
    "print(summary)"
   ]
  },
  {
   "cell_type": "markdown",
   "metadata": {},
   "source": [
    "# Mixed linear model for bootstrapped distribution"
   ]
  },
  {
   "cell_type": "code",
   "execution_count": 16,
   "metadata": {},
   "outputs": [
    {
     "name": "stdout",
     "output_type": "stream",
     "text": [
      "                     Mixed Linear Model Regression Results\n",
      "================================================================================\n",
      "Model:                   MixedLM        Dependent Variable:        Q(\"VCF_RMSE\")\n",
      "No. Observations:        816            Method:                    REML         \n",
      "No. Groups:              408            Scale:                     0.0000       \n",
      "Min. group size:         2              Log-Likelihood:            2830.4779    \n",
      "Max. group size:         2              Converged:                 Yes          \n",
      "Mean group size:         2.0                                                    \n",
      "--------------------------------------------------------------------------------\n",
      "                                     Coef.  Std.Err.    z    P>|z| [0.025 0.975]\n",
      "--------------------------------------------------------------------------------\n",
      "Intercept                             0.060    0.001 117.472 0.000  0.059  0.061\n",
      "Processing[T.Masked]                 -0.016    0.001 -23.245 0.000 -0.018 -0.015\n",
      "Contrast[T.CBV]                       0.022    0.001  30.476 0.000  0.021  0.024\n",
      "Processing[T.Masked]:Contrast[T.CBV] -0.016    0.001 -16.025 0.000 -0.018 -0.014\n",
      "Uid Var                               0.000    0.000                            \n",
      "================================================================================\n",
      "\n"
     ]
    },
    {
     "name": "stderr",
     "output_type": "stream",
     "text": [
      "/home/hendrik/miniconda3/envs/perfusionct/lib/python3.7/site-packages/statsmodels/regression/mixed_linear_model.py:2149: ConvergenceWarning: The MLE may be on the boundary of the parameter space.\n",
      "  warnings.warn(msg, ConvergenceWarning)\n"
     ]
    }
   ],
   "source": [
    "df_path = 'data/bootstrapped/bootstrapped_volume.csv'\n",
    "df = pd.read_csv(os.path.abspath(df_path))\n",
    "dependent_variable='VCF_RMSE'\n",
    "expression = 'Processing*Contrast'\n",
    "\n",
    "df = df.loc[df['Processing'] != 'Unprocessed']\n",
    "df = df.loc[((df['Processing'] == 'Masked')) | ((df['Processing'] == 'Generic'))]\n",
    "\n",
    "formula = 'Q(\"{}\") ~ {}'.format(dependent_variable, expression)\n",
    "model = smf.mixedlm(formula, df, groups='Uid')\n",
    "fit = model.fit()\n",
    "print(fit.summary())"
   ]
  },
  {
   "cell_type": "code",
   "execution_count": 20,
   "metadata": {},
   "outputs": [
    {
     "name": "stdout",
     "output_type": "stream",
     "text": [
      "             Mixed Linear Model Regression Results\n",
      "================================================================\n",
      "Model:               MixedLM  Dependent Variable:  Q(\"VCF_RMSE\")\n",
      "No. Observations:    816      Method:              REML         \n",
      "No. Groups:          408      Scale:               0.0001       \n",
      "Min. group size:     2        Log-Likelihood:      2730.5499    \n",
      "Max. group size:     2        Converged:           Yes          \n",
      "Mean group size:     2.0                                        \n",
      "----------------------------------------------------------------\n",
      "                     Coef.  Std.Err.    z    P>|z| [0.025 0.975]\n",
      "----------------------------------------------------------------\n",
      "Intercept             0.064    0.001 127.145 0.000  0.063  0.065\n",
      "Processing[T.Masked] -0.024    0.001 -41.500 0.000 -0.025 -0.023\n",
      "Contrast[T.CBV]       0.014    0.001  24.304 0.000  0.013  0.015\n",
      "Uid Var               0.000    0.001                            \n",
      "================================================================\n",
      "\n"
     ]
    },
    {
     "name": "stderr",
     "output_type": "stream",
     "text": [
      "/home/hendrik/miniconda3/envs/perfusionct/lib/python3.7/site-packages/statsmodels/regression/mixed_linear_model.py:2149: ConvergenceWarning: The MLE may be on the boundary of the parameter space.\n",
      "  warnings.warn(msg, ConvergenceWarning)\n"
     ]
    }
   ],
   "source": [
    "df_path = 'data/bootstrapped/bootstrapped_volume.csv'\n",
    "df = pd.read_csv(os.path.abspath(df_path))\n",
    "dependent_variable='VCF_RMSE'\n",
    "expression = 'Processing+ Contrast'\n",
    "\n",
    "df = df.loc[df['Processing'] != 'Unprocessed']\n",
    "df = df.loc[((df['Processing'] == 'Masked')) | ((df['Processing'] == 'Generic'))]\n",
    "\n",
    "formula = 'Q(\"{}\") ~ {}'.format(dependent_variable, expression)\n",
    "model = smf.mixedlm(formula, df, groups='Uid')\n",
    "fit = model.fit()\n",
    "print(fit.summary())"
   ]
  },
  {
   "cell_type": "markdown",
   "metadata": {},
   "source": [
    "# Mixed linear model for |1 - VCF| with interaction"
   ]
  },
  {
   "cell_type": "code",
   "execution_count": 25,
   "metadata": {},
   "outputs": [
    {
     "name": "stdout",
     "output_type": "stream",
     "text": [
      "                       Mixed Linear Model Regression Results\n",
      "===================================================================================\n",
      "Model:                     MixedLM         Dependent Variable:         Q(\"1 - Vcf\")\n",
      "No. Observations:          136             Method:                     REML        \n",
      "No. Groups:                68              Scale:                      0.0008      \n",
      "Min. group size:           2               Log-Likelihood:             243.2700    \n",
      "Max. group size:           2               Converged:                  Yes         \n",
      "Mean group size:           2.0                                                     \n",
      "-----------------------------------------------------------------------------------\n",
      "                                         Coef.  Std.Err.   z    P>|z| [0.025 0.975]\n",
      "-----------------------------------------------------------------------------------\n",
      "Intercept                                 0.046    0.007  7.081 0.000  0.034  0.059\n",
      "Processing[T.Masked]                     -0.010    0.007 -1.406 0.160 -0.024  0.004\n",
      "Contrast[T.T2w+CBV]                       0.015    0.009  1.619 0.105 -0.003  0.033\n",
      "Processing[T.Masked]:Contrast[T.T2w+CBV] -0.008    0.010 -0.813 0.416 -0.028  0.011\n",
      "Uid Var                                   0.001    0.009                           \n",
      "===================================================================================\n",
      "\n"
     ]
    },
    {
     "name": "stderr",
     "output_type": "stream",
     "text": [
      "/home/hendrik/miniconda3/envs/perfusionct/lib/python3.7/site-packages/statsmodels/regression/mixed_linear_model.py:2149: ConvergenceWarning: The MLE may be on the boundary of the parameter space.\n",
      "  warnings.warn(msg, ConvergenceWarning)\n"
     ]
    }
   ],
   "source": [
    "df_path = 'data/volume.csv'\n",
    "dependent_variable = '1 - Vcf'\n",
    "expression = 'Processing*Contrast'\n",
    "\n",
    "df_path = os.path.abspath(df_path)\n",
    "df = pd.read_csv(df_path)\n",
    "\n",
    "df = df.loc[df['Processing'] != 'Unprocessed']\n",
    "df = df.loc[((df['Processing'] == 'Masked')) | ((df['Processing'] == 'Generic'))]\n",
    "\n",
    "formula = 'Q(\"{}\") ~ {}'.format(dependent_variable, expression)\n",
    "model = smf.mixedlm(formula, df, groups='Uid')\n",
    "fit = model.fit()\n",
    "summary = fit.summary()\n",
    "print(summary)"
   ]
  },
  {
   "cell_type": "markdown",
   "metadata": {},
   "source": [
    "# Mixed linear model for |1 - VCF| without interaction"
   ]
  },
  {
   "cell_type": "code",
   "execution_count": 26,
   "metadata": {},
   "outputs": [
    {
     "name": "stdout",
     "output_type": "stream",
     "text": [
      "             Mixed Linear Model Regression Results\n",
      "===============================================================\n",
      "Model:               MixedLM  Dependent Variable:  Q(\"1 - Vcf\")\n",
      "No. Observations:    136      Method:              REML        \n",
      "No. Groups:          68       Scale:               0.0008      \n",
      "Min. group size:     2        Log-Likelihood:      246.6337    \n",
      "Max. group size:     2        Converged:           Yes         \n",
      "Mean group size:     2.0                                       \n",
      "---------------------------------------------------------------\n",
      "                     Coef.  Std.Err.   z    P>|z| [0.025 0.975]\n",
      "---------------------------------------------------------------\n",
      "Intercept             0.048    0.006  7.988 0.000  0.037  0.060\n",
      "Processing[T.Masked] -0.014    0.005 -2.808 0.005 -0.024 -0.004\n",
      "Contrast[T.T2w+CBV]   0.011    0.008  1.402 0.161 -0.004  0.026\n",
      "Uid Var               0.001    0.009                           \n",
      "===============================================================\n",
      "\n"
     ]
    },
    {
     "name": "stderr",
     "output_type": "stream",
     "text": [
      "/home/hendrik/miniconda3/envs/perfusionct/lib/python3.7/site-packages/statsmodels/regression/mixed_linear_model.py:2149: ConvergenceWarning: The MLE may be on the boundary of the parameter space.\n",
      "  warnings.warn(msg, ConvergenceWarning)\n"
     ]
    }
   ],
   "source": [
    "df_path = 'data/volume.csv'\n",
    "dependent_variable = '1 - Vcf'\n",
    "expression = 'Processing+Contrast'\n",
    "\n",
    "df_path = os.path.abspath(df_path)\n",
    "df = pd.read_csv(df_path)\n",
    "\n",
    "df = df.loc[df['Processing'] != 'Unprocessed']\n",
    "df = df.loc[((df['Processing'] == 'Masked')) | ((df['Processing'] == 'Generic'))]\n",
    "\n",
    "formula = 'Q(\"{}\") ~ {}'.format(dependent_variable, expression)\n",
    "model = smf.mixedlm(formula, df, groups='Uid')\n",
    "fit = model.fit()\n",
    "summary = fit.summary()\n",
    "print(summary)"
   ]
  },
  {
   "cell_type": "code",
   "execution_count": null,
   "metadata": {},
   "outputs": [],
   "source": []
  }
 ],
 "metadata": {
  "kernelspec": {
   "display_name": "Python 3",
   "language": "python",
   "name": "python3"
  },
  "language_info": {
   "codemirror_mode": {
    "name": "ipython",
    "version": 3
   },
   "file_extension": ".py",
   "mimetype": "text/x-python",
   "name": "python",
   "nbconvert_exporter": "python",
   "pygments_lexer": "ipython3",
   "version": "3.7.7"
  }
 },
 "nbformat": 4,
 "nbformat_minor": 1
}
